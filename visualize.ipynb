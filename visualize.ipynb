{
 "cells": [
  {
   "cell_type": "code",
   "execution_count": null,
   "id": "41d15f30-565c-4ca4-85ea-e588478880da",
   "metadata": {},
   "outputs": [],
   "source": [
    "import datetime\n",
    "import pandas as pd\n",
    "\n",
    "import numpy as np\n",
    "import plotly.express as px\n",
    "import plotly.graph_objects as go\n",
    "import plotly.offline\n",
    "import plotly.subplots\n",
    "\n",
    "from tqdm import tqdm\n",
    "from IPython.display import HTML\n",
    "from IPython.display import SVG"
   ]
  },
  {
   "cell_type": "code",
   "execution_count": null,
   "id": "926787bc-da0b-42c1-b530-b5bc9f034cf3",
   "metadata": {},
   "outputs": [],
   "source": [
    "df_act_bliz = pd.read_csv(f'raw/act_bliz.csv')\n",
    "df_ea       = pd.read_csv(f'raw/ea.csv')\n",
    "df_nintendo = pd.read_csv(f'raw/nintendo.csv')\n",
    "df_take_two = pd.read_csv(f'raw/take_two.csv')\n",
    "df_tencent  = pd.read_csv(f'raw/tencent.csv')\n",
    "df_ubisoft  = pd.read_csv(f'raw/ubisoft.csv')\n",
    "df_zynga    = pd.read_csv(f'raw/zynga.csv')\n",
    "\n",
    "df_act_bliz['mean_opn_cls'] = (df_act_bliz.Open + df_act_bliz.Close)/2\n",
    "df_ea      ['mean_opn_cls'] = (df_ea      .Open + df_ea      .Close)/2\n",
    "df_nintendo['mean_opn_cls'] = (df_nintendo.Open + df_nintendo.Close)/2\n",
    "df_take_two['mean_opn_cls'] = (df_take_two.Open + df_take_two.Close)/2\n",
    "df_tencent ['mean_opn_cls'] = (df_tencent .Open + df_tencent .Close)/2\n",
    "df_ubisoft ['mean_opn_cls'] = (df_ubisoft .Open + df_ubisoft .Close)/2\n",
    "df_zynga   ['mean_opn_cls'] = (df_zynga   .Open + df_zynga   .Close)/2\n",
    "\n",
    "df_act_bliz['mean_opn_cls_diff'] = df_act_bliz.mean_opn_cls.diff()\n",
    "df_ea      ['mean_opn_cls_diff'] = df_ea      .mean_opn_cls.diff()\n",
    "df_nintendo['mean_opn_cls_diff'] = df_nintendo.mean_opn_cls.diff()\n",
    "df_take_two['mean_opn_cls_diff'] = df_take_two.mean_opn_cls.diff()\n",
    "df_tencent ['mean_opn_cls_diff'] = df_tencent .mean_opn_cls.diff()\n",
    "df_ubisoft ['mean_opn_cls_diff'] = df_ubisoft .mean_opn_cls.diff()\n",
    "df_zynga   ['mean_opn_cls_diff'] = df_zynga   .mean_opn_cls.diff()\n",
    "\n",
    "df_act_bliz['name'] = 'act_bliz'\n",
    "df_ea      ['name'] = 'ea'\n",
    "df_nintendo['name'] = 'nintendo'\n",
    "df_take_two['name'] = 'take_two'\n",
    "df_tencent ['name'] = 'tencent'\n",
    "df_ubisoft ['name'] = 'ubisoft'\n",
    "df_zynga   ['name'] = 'zynga'"
   ]
  },
  {
   "cell_type": "code",
   "execution_count": null,
   "id": "5348d91a-63a2-4e84-9b70-940b08a09fbe",
   "metadata": {},
   "outputs": [],
   "source": [
    "frames = [df_act_bliz, df_ea, df_nintendo, df_take_two, df_tencent, df_ubisoft, df_zynga]\n",
    "df_all = pd.concat(frames)\n",
    "df_all['normalized_mean_opn_cls_diff'] = df_all['mean_opn_cls_diff'] / df_all['mean_opn_cls'] * 100"
   ]
  },
  {
   "cell_type": "code",
   "execution_count": null,
   "id": "610c3656-6628-4302-b25b-65aa047b0057",
   "metadata": {},
   "outputs": [],
   "source": [
    "fig = px.line(df_all, x=\"Date\", y=\"mean_opn_cls\", color='name', title='stocks daily price')\n",
    "fig.update_layout(xaxis_range=[datetime.datetime(2010, 1, 1),\n",
    "                               datetime.datetime(2022, 4, 1)])\n",
    "fig.update_layout(yaxis_range=[0, 200])\n",
    "plotly.offline.plot(fig, filename='stocks_daily_price_mean.html', auto_open=False)\n",
    "fig.show()"
   ]
  },
  {
   "cell_type": "code",
   "execution_count": null,
   "id": "7066ed6b-6db9-4df5-a363-9c5a0b71c259",
   "metadata": {},
   "outputs": [],
   "source": [
    "fig = px.line(df_all, x=\"Date\", y=\"mean_opn_cls_diff\", color='name', title='stocks daily price gradient')\n",
    "fig.update_layout(xaxis_range=[datetime.datetime(2010, 1, 1),\n",
    "                               datetime.datetime(2022, 4, 1)])\n",
    "fig.update_layout(yaxis_range=[-20, 20])\n",
    "plotly.offline.plot(fig, filename='stocks_daily_price_mean_diff.html', auto_open=False)\n",
    "fig.show()"
   ]
  },
  {
   "cell_type": "code",
   "execution_count": null,
   "id": "2903784f-926c-477d-8fc0-2dd951c650d7",
   "metadata": {},
   "outputs": [],
   "source": [
    "frames = [df_act_bliz, df_ea, df_nintendo, df_take_two, df_tencent, df_ubisoft, df_zynga]\n",
    "df_all = pd.concat(frames)\n",
    "df_all['normalized_mean_opn_cls_diff'] = df_all['mean_opn_cls_diff'] / df_all['mean_opn_cls'] * 100\n",
    "df_all.Date = pd.to_datetime(df_all.Date)\n",
    "df_all = df_all.replace(np.nan, 0)"
   ]
  },
  {
   "cell_type": "code",
   "execution_count": null,
   "id": "7be120f6-c571-4c6e-994a-abea12a7bdf5",
   "metadata": {},
   "outputs": [],
   "source": [
    "data = []\n",
    "for d in df_all.Date.unique():\n",
    "    tmp = []\n",
    "    if len(df_all[df_all.Date == d]) == 7:\n",
    "        tmp.append(df_all[df_all.Date == d].normalized_mean_opn_cls_diff)\n",
    "        data.append(tmp)\n",
    "data = np.array(data)\n",
    "data = data[:, 0, :].T\n",
    "corrcoef = np.corrcoef(data)"
   ]
  },
  {
   "cell_type": "code",
   "execution_count": null,
   "id": "89803e05-d325-4910-8ae7-b302466bf9b8",
   "metadata": {},
   "outputs": [],
   "source": [
    "corrcoef = np.corrcoef(data)"
   ]
  },
  {
   "cell_type": "code",
   "execution_count": null,
   "id": "4a70d77b-34d2-4371-960e-3c87e0809a89",
   "metadata": {},
   "outputs": [],
   "source": [
    "fig = px.imshow(corrcoef, title='stocks daily price gradient correlation',\n",
    "                labels=dict(x=\"stocks name\", y=\"stocks name\"),\n",
    "                x=['act_bliz', 'ea', 'nintendo', 'take_two', 'tencent', 'ubisoft', 'zynga'],\n",
    "                y=['act_bliz', 'ea', 'nintendo', 'take_two', 'tencent', 'ubisoft', 'zynga'],\n",
    "                text_auto=True)\n",
    "plotly.offline.plot(fig, filename='stocks_daily_price_mean_diff_correlation.html', auto_open=False)\n",
    "fig.show()"
   ]
  },
  {
   "cell_type": "code",
   "execution_count": null,
   "id": "b86ec63d-98cf-4ac5-b346-6113c204f9ed",
   "metadata": {},
   "outputs": [],
   "source": []
  }
 ],
 "metadata": {
  "kernelspec": {
   "display_name": "Python 3 (ipykernel)",
   "language": "python",
   "name": "python3"
  },
  "language_info": {
   "codemirror_mode": {
    "name": "ipython",
    "version": 3
   },
   "file_extension": ".py",
   "mimetype": "text/x-python",
   "name": "python",
   "nbconvert_exporter": "python",
   "pygments_lexer": "ipython3",
   "version": "3.7.9"
  }
 },
 "nbformat": 4,
 "nbformat_minor": 5
}
